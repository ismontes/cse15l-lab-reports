{
  "cells": [
    {
      "cell_type": "code",
      "execution_count": 16,
      "metadata": {
        "colab": {
          "base_uri": "https://localhost:8080/"
        },
        "id": "SmrScl-IuVVT",
        "outputId": "471d991e-5294-4588-efad-bf29bc9ae457"
      },
      "outputs": [
        {
          "output_type": "stream",
          "name": "stdout",
          "text": [
            "fatal: destination path 'hw1' already exists and is not an empty directory.\n"
          ]
        }
      ],
      "source": [
        "# If cloning is needed -- i.e., if hangman.py and word counts are not already\n",
        "# available in file, you can run this\n",
        "!git clone https://github.com/ucsd-cse150a-w25/hw1.git\n",
        "!cp hw1/hangman.py hangman.py\n",
        "!cp hw1/hw1_word_counts_05.txt hw1_word_counts_05.txt"
      ]
    },
    {
      "cell_type": "code",
      "execution_count": 17,
      "metadata": {
        "colab": {
          "base_uri": "https://localhost:8080/"
        },
        "id": "qp1lMOs0uVVV",
        "outputId": "1a6ca60e-e536-4d7b-9485-60abe3d08e1e"
      },
      "outputs": [
        {
          "output_type": "stream",
          "name": "stdout",
          "text": [
            "\n",
            "\n",
            "  +---+\n",
            "      |\n",
            "      |\n",
            "      |\n",
            "     ===\n",
            "\n",
            "Word: _ _ _ _ _\n",
            "Tried letters: \n",
            "Game over! The word was:  HEARD\n"
          ]
        },
        {
          "output_type": "execute_result",
          "data": {
            "text/plain": [
              "0"
            ]
          },
          "metadata": {},
          "execution_count": 17
        }
      ],
      "source": [
        "from hangman import hangman_game\n",
        "\n",
        "# Play the game by yourself\n",
        "hangman_game()"
      ]
    },
    {
      "cell_type": "code",
      "execution_count": 18,
      "metadata": {
        "colab": {
          "base_uri": "https://localhost:8080/"
        },
        "id": "7yWLQVE_uVVV",
        "outputId": "53b0c8e8-8ea3-4fd6-fcd9-a32e62afa424"
      },
      "outputs": [
        {
          "output_type": "stream",
          "name": "stdout",
          "text": [
            "\n",
            "\n",
            "  +---+\n",
            "  O   |\n",
            " /|\\  |\n",
            " / \\  |\n",
            "     ===\n",
            "\n",
            "Word: _ _ _ U _\n",
            "Tried letters: G, M, N, O, Q, R, U\n",
            "Game over! The word was:  VALUE\n"
          ]
        },
        {
          "output_type": "execute_result",
          "data": {
            "text/plain": [
              "0"
            ]
          },
          "metadata": {},
          "execution_count": 18
        }
      ],
      "source": [
        "import random\n",
        "\n",
        "def random_inference(\n",
        "    letters_tried: set[str],\n",
        "    word_pattern: list[str],\n",
        "    word_counts: dict[str, int]\n",
        ") -> str:\n",
        "    '''\n",
        "    Random inference for playing hangman. This should be a simple method which returns a letter\n",
        "    that is NOT in letters_tried but any other letter, at random.\n",
        "\n",
        "    Hint: use the random.choice method\n",
        "    '''\n",
        "    # TODO: Implement random inference code to guess hangman\n",
        "\n",
        "    #Define all the letters we can choose from\n",
        "    allLetters = set('abcdefghijklmnopqrstuvwxyz')\n",
        "\n",
        "    #Make sure the letters are all undercase and then take them away from\n",
        "    #[allLetters]\n",
        "    remainingLetters = list(allLetters - {letter.lower() for letter in letters_tried})\n",
        "\n",
        "    #Use random to pick one of the remainding letterd\n",
        "    return random.choice(remainingLetters) if remainingLetters else ''\n",
        "\n",
        "hangman_game(random_inference)"
      ]
    },
    {
      "cell_type": "code",
      "execution_count": 19,
      "metadata": {
        "id": "CGmWBdsXM4cN",
        "colab": {
          "base_uri": "https://localhost:8080/"
        },
        "outputId": "6632124a-735f-4afa-9d99-91026d45414e"
      },
      "outputs": [
        {
          "output_type": "stream",
          "name": "stdout",
          "text": [
            "\n",
            "\n",
            "  +---+\n",
            "  O   |\n",
            "      |\n",
            "      |\n",
            "     ===\n",
            "\n",
            "Word: T H I R D\n",
            "Tried letters: D, E, H, I, R, T\n",
            "Congratulations! You guessed the word:  THIRD\n"
          ]
        },
        {
          "output_type": "execute_result",
          "data": {
            "text/plain": [
              "1"
            ]
          },
          "metadata": {},
          "execution_count": 19
        }
      ],
      "source": [
        "def bayesian_inference(\n",
        "    letters_tried: set[str],\n",
        "    word_pattern: list[str],\n",
        "    word_counts: dict[str, int]\n",
        ") -> str:\n",
        "    '''\n",
        "    Bayesian inference method for playing hangman. The parameters given are as follows:\n",
        "\n",
        "    - letters_tried (set[str]): A set of strings which consist of all the letters that have already\n",
        "        been tried. For example, if 'A', 'E' has been guessed, `letters_tried = {'A', 'E'}`\n",
        "    - word_pattern (list[str]): A list of single characters that describe the current guess state.\n",
        "        For example, if the hangman state is _AB__, `word_pattern = ['_', 'A', 'B', '_', '_']`\n",
        "    - word_counts (dict[str, int]): The word counts dictionary which contains all possible 5 letter\n",
        "        words in our hangman game and their respective counts. For example, a key value pair could\n",
        "        be 'AARON': 413.\n",
        "\n",
        "    Return type: a single character string as your next best guess.\n",
        "    '''\n",
        "    # TODO: Implement inference code to play hangman optimally\n",
        "\n",
        "    #Normalize the word coutns\n",
        "    totalWordCount = sum(word_counts.values())\n",
        "\n",
        "    #Compute P(W | E)\n",
        "    posterior = {}\n",
        "    for word, count in word_counts.items():\n",
        "\n",
        "      #Check if the word is consistent with the current pattern\n",
        "      if(all(word[i] == word_pattern[i] or word_pattern[i] == '_' for i in range(5))):\n",
        "        posterior[word] = count / totalWordCount\n",
        "\n",
        "    #-------------------------------------------------------------------------#\n",
        "\n",
        "    #Normalize posterior probablities\n",
        "\n",
        "    totalPosterior = sum(posterior.values())\n",
        "    for word in posterior:\n",
        "      posterior[word] /=  totalPosterior\n",
        "\n",
        "    #-------------------------------------------------------------------------#\n",
        "\n",
        "    #Compute P(L_i = l | E)\n",
        "\n",
        "    letterProb = {chr(c): 0 for c in range(ord('a'), ord('z') + 1)}\n",
        "\n",
        "    #Loop through the words that match the given pattern\n",
        "    for word, prob in posterior.items():\n",
        "\n",
        "      for i, letter in enumerate(word):\n",
        "\n",
        "        #Only want to consider the unkown spots of the unguessed word\n",
        "        if word_pattern[i] == '_' and letter.lower() not in letters_tried:\n",
        "          #Sum the probabilities\n",
        "          letterProb[letter.lower()] += prob\n",
        "\n",
        "    #-------------------------------------------------------------------------#\n",
        "\n",
        "    #Pick the best letter with the highest probability\n",
        "\n",
        "    #Filter out letters that have already been tried before finding the max\n",
        "    available_letters = {letter: prob for letter, prob in letterProb.items() if letter not in {l.lower() for l in letters_tried}}\n",
        "\n",
        "    if available_letters:\n",
        "        maxLetter = max(available_letters, key=available_letters.get)\n",
        "    else:\n",
        "        # Handle case where all letters have been tried\n",
        "        maxLetter = ''\n",
        "\n",
        "    return maxLetter\n",
        "\n",
        "# Run the game\n",
        "hangman_game(bayesian_inference)"
      ]
    },
    {
      "cell_type": "code",
      "execution_count": 20,
      "metadata": {
        "colab": {
          "base_uri": "https://localhost:8080/"
        },
        "id": "G7BC6fE8uVVW",
        "outputId": "c7a64f78-aa2d-444a-972c-5329929084ef"
      },
      "outputs": [
        {
          "output_type": "stream",
          "name": "stdout",
          "text": [
            "Random interference\n",
            "Accuracy: 0.00%\n",
            "Successes: 0\n",
            "Fails: 1000\n",
            "\n",
            "Bayesian interference\n",
            "Accuracy: 100.00%\n",
            "Successes: 1000\n",
            "Fails: 0\n"
          ]
        }
      ],
      "source": [
        "from typing import Optional, Callable\n",
        "# from tqdm import tqdm\n",
        "\n",
        "def benchmark(\n",
        "    inference: Optional[Callable],\n",
        "    num_runs: int = 1000,\n",
        "    seed: int = 0\n",
        ") -> None:\n",
        "    '''\n",
        "    Benchmark method for testing out the bayesian inference method. The parameters given are:\n",
        "\n",
        "    - inference: The function that should match the bayesian_inference() method above.\n",
        "    - seed: The seed to pass into the hangman_game function.\n",
        "\n",
        "    Return type: none.\n",
        "\n",
        "    Print the accuracy out of num_runs. If the function throws an error, it should count as a fail.\n",
        "    '''\n",
        "    # TODO: Implement benchmark testing for a given function\n",
        "    # Hint: use `random.seed(seed)` ONCE at the start\n",
        "    # Hint: pass `interactive = False` into the hangman_game function to run faster without outputs.\n",
        "    # Optional: use the `tqdm` module to keep track of the evaluation progress.\n",
        "\n",
        "    #Set the random seed\n",
        "    random.seed(seed)\n",
        "\n",
        "    #Accuracy and fail count\n",
        "    success = 0\n",
        "    fail = 0\n",
        "\n",
        "    #-------------------------------------------------------------------------#\n",
        "\n",
        "    #Iterate though the number of benchmark runs\n",
        "\n",
        "    for _ in range(num_runs):\n",
        "      try:\n",
        "        #Play the game\n",
        "        gameResult = hangman_game(inference, interactive = False, seed = seed)\n",
        "\n",
        "        #Check if the game was won\n",
        "        if gameResult == 1:\n",
        "\n",
        "          success += 1\n",
        "\n",
        "        else:\n",
        "\n",
        "          fail += 1\n",
        "\n",
        "      except Exception as e:\n",
        "        #Count as a failure if the function throws an error\n",
        "         fail += 1\n",
        "         print(f\"Error: {e}\")\n",
        "\n",
        "    #Calculate the accuracy\n",
        "    accuracy = success  / num_runs\n",
        "    print(f\"Accuracy: {accuracy * 100:.2f}%\")\n",
        "    print(f\"Successes: {success}\")\n",
        "    print(f\"Fails: {fail}\")\n",
        "\n",
        "print(\"Random interference\")\n",
        "benchmark(random_inference)\n",
        "print()\n",
        "print(\"Bayesian interference\")\n",
        "benchmark(bayesian_inference)\n"
      ]
    },
    {
      "cell_type": "code",
      "source": [
        "!apt-get install texlive texlive-xetex texlive-latex-extra pandoc\n",
        "!pip install pypandoc"
      ],
      "metadata": {
        "colab": {
          "base_uri": "https://localhost:8080/"
        },
        "id": "M6Gn5J9BuqId",
        "outputId": "c74f9876-c2e4-4431-8494-68a581c81582"
      },
      "execution_count": 21,
      "outputs": [
        {
          "output_type": "stream",
          "name": "stdout",
          "text": [
            "Reading package lists... Done\n",
            "Building dependency tree... Done\n",
            "Reading state information... Done\n",
            "pandoc is already the newest version (2.9.2.1-3ubuntu2).\n",
            "texlive is already the newest version (2021.20220204-1).\n",
            "texlive-latex-extra is already the newest version (2021.20220204-1).\n",
            "texlive-xetex is already the newest version (2021.20220204-1).\n",
            "0 upgraded, 0 newly installed, 0 to remove and 49 not upgraded.\n",
            "Requirement already satisfied: pypandoc in /usr/local/lib/python3.11/dist-packages (1.15)\n"
          ]
        }
      ]
    },
    {
      "cell_type": "code",
      "source": [
        "!jupyter nbconvert --to pdf cse150a_hangman.ipynb\n",
        "from google.colab import files\n",
        "files.download('cse150a_hangman.pdf')"
      ],
      "metadata": {
        "id": "DWyI0RnzwHN-",
        "outputId": "bcea1160-d340-4208-8396-57ea7479a29f",
        "colab": {
          "base_uri": "https://localhost:8080/",
          "height": 180
        }
      },
      "execution_count": 25,
      "outputs": [
        {
          "output_type": "stream",
          "name": "stdout",
          "text": [
            "[NbConvertApp] Converting notebook cse150a_hangman.ipynb to pdf\n",
            "[NbConvertApp] Writing 25971 bytes to notebook.tex\n",
            "[NbConvertApp] Building PDF\n",
            "[NbConvertApp] Running xelatex 3 times: ['xelatex', 'notebook.tex', '-quiet']\n",
            "[NbConvertApp] Running bibtex 1 time: ['bibtex', 'notebook']\n",
            "[NbConvertApp] WARNING | bibtex had problems, most likely because there were no citations\n",
            "[NbConvertApp] PDF successfully created\n",
            "[NbConvertApp] Writing 28405 bytes to cse150a_hangman.pdf\n"
          ]
        },
        {
          "output_type": "display_data",
          "data": {
            "text/plain": [
              "<IPython.core.display.Javascript object>"
            ],
            "application/javascript": [
              "\n",
              "    async function download(id, filename, size) {\n",
              "      if (!google.colab.kernel.accessAllowed) {\n",
              "        return;\n",
              "      }\n",
              "      const div = document.createElement('div');\n",
              "      const label = document.createElement('label');\n",
              "      label.textContent = `Downloading \"${filename}\": `;\n",
              "      div.appendChild(label);\n",
              "      const progress = document.createElement('progress');\n",
              "      progress.max = size;\n",
              "      div.appendChild(progress);\n",
              "      document.body.appendChild(div);\n",
              "\n",
              "      const buffers = [];\n",
              "      let downloaded = 0;\n",
              "\n",
              "      const channel = await google.colab.kernel.comms.open(id);\n",
              "      // Send a message to notify the kernel that we're ready.\n",
              "      channel.send({})\n",
              "\n",
              "      for await (const message of channel.messages) {\n",
              "        // Send a message to notify the kernel that we're ready.\n",
              "        channel.send({})\n",
              "        if (message.buffers) {\n",
              "          for (const buffer of message.buffers) {\n",
              "            buffers.push(buffer);\n",
              "            downloaded += buffer.byteLength;\n",
              "            progress.value = downloaded;\n",
              "          }\n",
              "        }\n",
              "      }\n",
              "      const blob = new Blob(buffers, {type: 'application/binary'});\n",
              "      const a = document.createElement('a');\n",
              "      a.href = window.URL.createObjectURL(blob);\n",
              "      a.download = filename;\n",
              "      div.appendChild(a);\n",
              "      a.click();\n",
              "      div.remove();\n",
              "    }\n",
              "  "
            ]
          },
          "metadata": {}
        },
        {
          "output_type": "display_data",
          "data": {
            "text/plain": [
              "<IPython.core.display.Javascript object>"
            ],
            "application/javascript": [
              "download(\"download_8d13bcb2-6d70-4f2e-82e9-799377cc35d0\", \"cse150a_hangman.pdf\", 28405)"
            ]
          },
          "metadata": {}
        }
      ]
    }
  ],
  "metadata": {
    "colab": {
      "provenance": []
    },
    "kernelspec": {
      "display_name": "Python 3",
      "name": "python3"
    },
    "language_info": {
      "codemirror_mode": {
        "name": "ipython",
        "version": 3
      },
      "file_extension": ".py",
      "mimetype": "text/x-python",
      "name": "python",
      "nbconvert_exporter": "python",
      "pygments_lexer": "ipython3",
      "version": "3.11.0"
    }
  },
  "nbformat": 4,
  "nbformat_minor": 0
}