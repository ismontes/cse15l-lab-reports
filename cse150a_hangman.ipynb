{
  "cells": [
    {
      "cell_type": "code",
      "execution_count": 6,
      "metadata": {
        "id": "sUNMQj2t1lNz",
        "outputId": "f6e77f10-67b5-443e-a2c9-91600c1ac7a6",
        "colab": {
          "base_uri": "https://localhost:8080/"
        }
      },
      "outputs": [
        {
          "output_type": "stream",
          "name": "stdout",
          "text": [
            "fatal: destination path 'hw1' already exists and is not an empty directory.\n"
          ]
        }
      ],
      "source": [
        "# If cloning is needed -- i.e., if hangman.py and word counts are not already\n",
        "# available in file, you can run this\n",
        "!git clone https://github.com/ucsd-cse150a-w25/hw1.git\n",
        "!cp hw1/hangman.py hangman.py\n",
        "!cp hw1/hw1_word_counts_05.txt hw1_word_counts_05.txt"
      ]
    },
    {
      "cell_type": "code",
      "execution_count": 5,
      "metadata": {
        "id": "csWFE2cy1lN2",
        "outputId": "f758859d-4fd4-49e6-c2dd-09b22756ccb8",
        "colab": {
          "base_uri": "https://localhost:8080/"
        }
      },
      "outputs": [
        {
          "output_type": "stream",
          "name": "stdout",
          "text": [
            "\n",
            "\n",
            "  +---+\n",
            "      |\n",
            "      |\n",
            "      |\n",
            "     ===\n",
            "\n",
            "Word: _ _ _ _ _\n",
            "Tried letters: \n",
            "Game over! The word was:  FORTY\n"
          ]
        },
        {
          "output_type": "execute_result",
          "data": {
            "text/plain": [
              "0"
            ]
          },
          "metadata": {},
          "execution_count": 5
        }
      ],
      "source": [
        "from hangman import hangman_game\n",
        "\n",
        "# Play the game by yourself\n",
        "hangman_game()"
      ]
    },
    {
      "cell_type": "code",
      "execution_count": 13,
      "metadata": {
        "id": "VE6cMc-_1lN3",
        "outputId": "26185404-f835-41ce-ef30-0e8c730be031",
        "colab": {
          "base_uri": "https://localhost:8080/"
        }
      },
      "outputs": [
        {
          "output_type": "stream",
          "name": "stdout",
          "text": [
            "\n",
            "\n",
            "  +---+\n",
            "  O   |\n",
            " /|\\  |\n",
            " / \\  |\n",
            "     ===\n",
            "\n",
            "Word: _ _ E _ _\n",
            "Tried letters: E, L, P, S, V, W, Y\n",
            "Game over! The word was:  THEIR\n"
          ]
        },
        {
          "output_type": "execute_result",
          "data": {
            "text/plain": [
              "0"
            ]
          },
          "metadata": {},
          "execution_count": 13
        }
      ],
      "source": [
        "import random\n",
        "\n",
        "def random_inference(\n",
        "    letters_tried: set[str],\n",
        "    word_pattern: list[str],\n",
        "    word_counts: dict[str, int]\n",
        ") -> str:\n",
        "    '''\n",
        "    Random inference for playing hangman. This should be a simple method which\n",
        "    returns a letter\n",
        "    that is NOT in letters_tried but any other letter, at random.\n",
        "\n",
        "    Hint: use the random.choice method\n",
        "    '''\n",
        "    # TODO: Implement random inference code to guess hangman\n",
        "\n",
        "    #Define all the letters we can choose from\n",
        "    allLetters = set('abcdefghijklmnopqrstuvwxyz')\n",
        "\n",
        "    #Make sure the letters are all undercase and then take them away from\n",
        "    #[allLetters]\n",
        "    remainingLetters = list(allLetters - {letter.lower() for letter in letters_tried})\n",
        "\n",
        "    #Use random to pick one of the remainding letterd\n",
        "    return random.choice(remainingLetters) if remainingLetters else ''\n",
        "\n",
        "\n",
        "hangman_game(random_inference)"
      ]
    },
    {
      "cell_type": "code",
      "execution_count": 14,
      "metadata": {
        "id": "CGmWBdsXM4cN",
        "outputId": "a407322c-a168-4e89-848d-3fa0bf39d11c",
        "colab": {
          "base_uri": "https://localhost:8080/"
        }
      },
      "outputs": [
        {
          "output_type": "stream",
          "name": "stdout",
          "text": [
            "\n",
            "\n",
            "  +---+\n",
            "  O   |\n",
            " /|\\  |\n",
            " /    |\n",
            "     ===\n",
            "\n",
            "Word: W O U L D\n",
            "Tried letters: A, D, E, L, O, R, S, T, U, W\n",
            "Congratulations! You guessed the word:  WOULD\n"
          ]
        },
        {
          "output_type": "execute_result",
          "data": {
            "text/plain": [
              "1"
            ]
          },
          "metadata": {},
          "execution_count": 14
        }
      ],
      "source": [
        "def bayesian_inference(\n",
        "    letters_tried: set[str],\n",
        "    word_pattern: list[str],\n",
        "    word_counts: dict[str, int]\n",
        ") -> str:\n",
        "    '''\n",
        "    Bayesian inference method for playing hangman. The parameters given are as follows:\n",
        "\n",
        "    - letters_tried (set[str]): A set of strings which consist of all the letters that have already\n",
        "        been tried. For example, if 'A', 'E' has been guessed, `letters_tried = {'A', 'E'}`\n",
        "    - word_pattern (list[str]): A list of single characters that describe the current guess state.\n",
        "        For example, if the hangman state is _AB__, `word_pattern = ['_', 'A', 'B', '_', '_']`\n",
        "    - word_counts (dict[str, int]): The word counts dictionary which contains all possible 5 letter\n",
        "        words in our hangman game and their respective counts. For example, a key value pair could\n",
        "        be 'AARON': 413.\n",
        "\n",
        "    Return type: a single character string as your next best guess.\n",
        "    '''\n",
        "    # TODO: Implement inference code to play hangman optimally\n",
        "\n",
        "    #Normalize the word coutns\n",
        "    totalWordCount = sum(word_counts.values())\n",
        "\n",
        "    #Compute P(W | E)\n",
        "    posterior = {}\n",
        "    for word, count in word_counts.items():\n",
        "\n",
        "      #Check if the word is consistent with the current pattern\n",
        "      if(all(word[i] == word_pattern[i] or word_pattern[i] == '_' for i in range(5))):\n",
        "        posterior[word] = count / totalWordCount\n",
        "\n",
        "    #-------------------------------------------------------------------------#\n",
        "\n",
        "    #Normalize posterior probablities\n",
        "\n",
        "    totalPosterior = sum(posterior.values())\n",
        "    for word in posterior:\n",
        "      posterior[word] /=  totalPosterior\n",
        "\n",
        "    #-------------------------------------------------------------------------#\n",
        "\n",
        "    #Compute P(L_i = l | E)\n",
        "\n",
        "    letterProb = {chr(c): 0 for c in range(ord('a'), ord('z') + 1)}\n",
        "\n",
        "    #Loop through the words that match the given pattern\n",
        "    for word, prob in posterior.items():\n",
        "\n",
        "      for i, letter in enumerate(word):\n",
        "\n",
        "        #Only want to consider the unkown spots of the unguessed word\n",
        "        if word_pattern[i] == '_' and letter.lower() not in letters_tried:\n",
        "          #Sum the probabilities\n",
        "          letterProb[letter.lower()] += prob\n",
        "\n",
        "    #-------------------------------------------------------------------------#\n",
        "\n",
        "    #Pick the best letter with the highest probability\n",
        "\n",
        "    #Filter out letters that have already been tried before finding the max\n",
        "    available_letters = {letter: prob for letter, prob in letterProb.items() if letter not in {l.lower() for l in letters_tried}}\n",
        "\n",
        "    if available_letters:\n",
        "        maxLetter = max(available_letters, key=available_letters.get)\n",
        "    else:\n",
        "        # Handle case where all letters have been tried\n",
        "        maxLetter = ''\n",
        "\n",
        "    return maxLetter\n",
        "# Run the game\n",
        "hangman_game(bayesian_inference)"
      ]
    },
    {
      "cell_type": "code",
      "execution_count": 12,
      "metadata": {
        "id": "UStjFhNO1lN4",
        "outputId": "009c696a-17fc-4693-f9ae-c23766748395",
        "colab": {
          "base_uri": "https://localhost:8080/"
        }
      },
      "outputs": [
        {
          "output_type": "stream",
          "name": "stdout",
          "text": [
            "Random interference\n",
            "Accuracy: 0.00%\n",
            "Successes: 0\n",
            "Fails: 1000\n",
            "\n",
            "Bayesian interference\n",
            "Accuracy: 100.00%\n",
            "Successes: 1000\n",
            "Fails: 0\n"
          ]
        }
      ],
      "source": [
        "from typing import Optional, Callable\n",
        "# from tqdm import tqdm\n",
        "\n",
        "def benchmark(\n",
        "    inference: Optional[Callable],\n",
        "    num_runs: int = 1000,\n",
        "    seed: int = 0\n",
        ") -> None:\n",
        "    '''\n",
        "    Benchmark method for testing out the bayesian inference method. The parameters given are:\n",
        "\n",
        "    - inference: The function that should match the bayesian_inference() method above.\n",
        "    - seed: The seed to pass into the hangman_game function.\n",
        "\n",
        "    Return type: none.\n",
        "\n",
        "    Print the accuracy out of num_runs. If the function throws an error, it should count as a fail.\n",
        "    '''\n",
        "    # TODO: Implement benchmark testing for a given function\n",
        "    # Hint: use `random.seed(seed)` ONCE at the start\n",
        "    # Hint: pass `interactive = False` into the hangman_game function to run faster without outputs.\n",
        "    # Optional: use the `tqdm` module to keep track of the evaluation progress.\n",
        "\n",
        "    #Set the random seed\n",
        "    random.seed(seed)\n",
        "\n",
        "    #Accuracy and fail count\n",
        "    success = 0\n",
        "    fail = 0\n",
        "\n",
        "    #-------------------------------------------------------------------------#\n",
        "\n",
        "    #Iterate though the number of benchmark runs\n",
        "\n",
        "    for _ in range(num_runs):\n",
        "      try:\n",
        "        #Play the game\n",
        "        gameResult = hangman_game(inference, interactive = False, seed = seed)\n",
        "\n",
        "        #Check if the game was won\n",
        "        if gameResult == 1:\n",
        "\n",
        "          success += 1\n",
        "\n",
        "        else:\n",
        "\n",
        "          fail += 1\n",
        "\n",
        "      except Exception as e:\n",
        "        #Count as a failure if the function throws an error\n",
        "         fail += 1\n",
        "         print(f\"Error: {e}\")\n",
        "\n",
        "    #Calculate the accuracy\n",
        "    accuracy = success  / num_runs\n",
        "    print(f\"Accuracy: {accuracy * 100:.2f}%\")\n",
        "    print(f\"Successes: {success}\")\n",
        "    print(f\"Fails: {fail}\")\n",
        "\n",
        "print(\"Random interference\")\n",
        "benchmark(random_inference)\n",
        "print()\n",
        "print(\"Bayesian interference\")\n",
        "benchmark(bayesian_inference)"
      ]
    }
  ],
  "metadata": {
    "colab": {
      "provenance": []
    },
    "kernelspec": {
      "display_name": "Python 3",
      "name": "python3"
    },
    "language_info": {
      "codemirror_mode": {
        "name": "ipython",
        "version": 3
      },
      "file_extension": ".py",
      "mimetype": "text/x-python",
      "name": "python",
      "nbconvert_exporter": "python",
      "pygments_lexer": "ipython3",
      "version": "3.11.0"
    }
  },
  "nbformat": 4,
  "nbformat_minor": 0
}